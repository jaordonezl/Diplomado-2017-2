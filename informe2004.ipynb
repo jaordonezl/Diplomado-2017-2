{
 "cells": [
  {
   "cell_type": "markdown",
   "metadata": {
    "collapsed": false
   },
   "source": [
    "# Informe de aportes hidrologicos para el año 2004\n",
    "\n"
   ]
  },
  {
   "cell_type": "markdown",
   "metadata": {},
   "source": [
    "Este es un  ejemplo de informe  creado en jupyter, lee **datos de un texto .csv** y *permite* analizar datos\n",
    "\n",
    "* item1\n",
    "* item2\n",
    "* item3"
   ]
  },
  {
   "cell_type": "code",
   "execution_count": 45,
   "metadata": {
    "collapsed": false
   },
   "outputs": [],
   "source": [
    "import pandas as pd\n",
    "import matplotlib.pyplot as plt\n",
    "x=pd.read_csv('INFORME2004.csv',sep=';',decimal=',',thousands='.',skiprows=2) # skiptrows elimina las filas del encabezado"
   ]
  },
  {
   "cell_type": "code",
   "execution_count": 27,
   "metadata": {
    "collapsed": false,
    "scrolled": true
   },
   "outputs": [
    {
     "data": {
      "text/html": [
       "<div>\n",
       "<table border=\"1\" class=\"dataframe\">\n",
       "  <thead>\n",
       "    <tr style=\"text-align: right;\">\n",
       "      <th></th>\n",
       "      <th>Fecha</th>\n",
       "      <th>Region Hidrologica</th>\n",
       "      <th>Nombre Rio</th>\n",
       "      <th>Aportes Caudal m3/s</th>\n",
       "      <th>Aportes Energia kWh</th>\n",
       "      <th>Aportes %</th>\n",
       "    </tr>\n",
       "  </thead>\n",
       "  <tbody>\n",
       "    <tr>\n",
       "      <th>0</th>\n",
       "      <td>01/01/2004</td>\n",
       "      <td>ANTIOQUIA</td>\n",
       "      <td>A. SAN LORENZO</td>\n",
       "      <td>17.56</td>\n",
       "      <td>3910000.0</td>\n",
       "      <td>72,27%</td>\n",
       "    </tr>\n",
       "    <tr>\n",
       "      <th>1</th>\n",
       "      <td>01/01/2004</td>\n",
       "      <td>ANTIOQUIA</td>\n",
       "      <td>CONCEPCION</td>\n",
       "      <td>6.15</td>\n",
       "      <td>1385300.0</td>\n",
       "      <td>123,69%</td>\n",
       "    </tr>\n",
       "    <tr>\n",
       "      <th>2</th>\n",
       "      <td>01/01/2004</td>\n",
       "      <td>ANTIOQUIA</td>\n",
       "      <td>DESV. EEPPM (NEC,PAJ,DOL)</td>\n",
       "      <td>11.43</td>\n",
       "      <td>2574700.0</td>\n",
       "      <td>147,13%</td>\n",
       "    </tr>\n",
       "    <tr>\n",
       "      <th>3</th>\n",
       "      <td>01/01/2004</td>\n",
       "      <td>ANTIOQUIA</td>\n",
       "      <td>GRANDE</td>\n",
       "      <td>18.65</td>\n",
       "      <td>4563500.0</td>\n",
       "      <td>79,23%</td>\n",
       "    </tr>\n",
       "    <tr>\n",
       "      <th>4</th>\n",
       "      <td>01/01/2004</td>\n",
       "      <td>ANTIOQUIA</td>\n",
       "      <td>GUADALUPE</td>\n",
       "      <td>11.28</td>\n",
       "      <td>2540900.0</td>\n",
       "      <td>80,15%</td>\n",
       "    </tr>\n",
       "  </tbody>\n",
       "</table>\n",
       "</div>"
      ],
      "text/plain": [
       "        Fecha Region Hidrologica                 Nombre Rio  \\\n",
       "0  01/01/2004          ANTIOQUIA             A. SAN LORENZO   \n",
       "1  01/01/2004          ANTIOQUIA                 CONCEPCION   \n",
       "2  01/01/2004          ANTIOQUIA  DESV. EEPPM (NEC,PAJ,DOL)   \n",
       "3  01/01/2004          ANTIOQUIA                     GRANDE   \n",
       "4  01/01/2004          ANTIOQUIA                  GUADALUPE   \n",
       "\n",
       "   Aportes Caudal m3/s  Aportes Energia kWh Aportes %  \n",
       "0                17.56            3910000.0    72,27%  \n",
       "1                 6.15            1385300.0   123,69%  \n",
       "2                11.43            2574700.0   147,13%  \n",
       "3                18.65            4563500.0    79,23%  \n",
       "4                11.28            2540900.0    80,15%  "
      ]
     },
     "execution_count": 27,
     "metadata": {},
     "output_type": "execute_result"
    }
   ],
   "source": [
    "x.head()"
   ]
  },
  {
   "cell_type": "code",
   "execution_count": 71,
   "metadata": {
    "collapsed": false
   },
   "outputs": [
    {
     "data": {
      "text/plain": [
       "0                  A. SAN LORENZO\n",
       "1                      CONCEPCION\n",
       "2       DESV. EEPPM (NEC,PAJ,DOL)\n",
       "3                          GRANDE\n",
       "4                       GUADALUPE\n",
       "5                         GUATAPE\n",
       "6                          MIEL I\n",
       "7                            NARE\n",
       "8                        PORCE II\n",
       "9                      SAN CARLOS\n",
       "10                         TENCHE\n",
       "24                 A. SAN LORENZO\n",
       "25                     CONCEPCION\n",
       "26      DESV. EEPPM (NEC,PAJ,DOL)\n",
       "27                         GRANDE\n",
       "28                      GUADALUPE\n",
       "29                        GUATAPE\n",
       "30                         MIEL I\n",
       "31                           NARE\n",
       "32                       PORCE II\n",
       "33                     SAN CARLOS\n",
       "34                         TENCHE\n",
       "48                 A. SAN LORENZO\n",
       "49                     CONCEPCION\n",
       "50      DESV. EEPPM (NEC,PAJ,DOL)\n",
       "51                         GRANDE\n",
       "52                      GUADALUPE\n",
       "53                        GUATAPE\n",
       "54                         MIEL I\n",
       "55                           NARE\n",
       "                  ...            \n",
       "8715                       GRANDE\n",
       "8716                    GUADALUPE\n",
       "8717                      GUATAPE\n",
       "8718                       MIEL I\n",
       "8719                         NARE\n",
       "8720                     PORCE II\n",
       "8721                   SAN CARLOS\n",
       "8722                       TENCHE\n",
       "8736               A. SAN LORENZO\n",
       "8737                   CONCEPCION\n",
       "8738    DESV. EEPPM (NEC,PAJ,DOL)\n",
       "8739                       GRANDE\n",
       "8740                    GUADALUPE\n",
       "8741                      GUATAPE\n",
       "8742                       MIEL I\n",
       "8743                         NARE\n",
       "8744                     PORCE II\n",
       "8745                   SAN CARLOS\n",
       "8746                       TENCHE\n",
       "8760               A. SAN LORENZO\n",
       "8761                   CONCEPCION\n",
       "8762    DESV. EEPPM (NEC,PAJ,DOL)\n",
       "8763                       GRANDE\n",
       "8764                    GUADALUPE\n",
       "8765                      GUATAPE\n",
       "8766                       MIEL I\n",
       "8767                         NARE\n",
       "8768                     PORCE II\n",
       "8769                   SAN CARLOS\n",
       "8770                       TENCHE\n",
       "Name: Nombre Rio, dtype: object"
      ]
     },
     "execution_count": 71,
     "metadata": {},
     "output_type": "execute_result"
    }
   ],
   "source": [
    "y=x[x['Region Hidrologica']== 'ANTIOQUIA']['Nombre Rio']\n",
    "\n",
    "y"
   ]
  },
  {
   "cell_type": "code",
   "execution_count": 54,
   "metadata": {
    "collapsed": false
   },
   "outputs": [
    {
     "data": {
      "text/plain": [
       "{'A. SAN LORENZO',\n",
       " 'ALTOANCHICAYA',\n",
       " 'BATA',\n",
       " 'BOGOTA N.R.',\n",
       " 'CALIMA',\n",
       " 'CAUCA SALVAJINA',\n",
       " 'CHUZA',\n",
       " 'CONCEPCION',\n",
       " 'DESV. EEPPM (NEC,PAJ,DOL)',\n",
       " 'DIGUA',\n",
       " 'FLORIDA II',\n",
       " 'GRANDE',\n",
       " 'GUADALUPE',\n",
       " 'GUATAPE',\n",
       " 'GUAVIO',\n",
       " 'MAGDALENA BETANIA',\n",
       " 'MIEL I',\n",
       " 'NARE',\n",
       " 'OTROS RIOS (ESTIMADOS)',\n",
       " 'PORCE II',\n",
       " 'PRADO',\n",
       " 'SAN CARLOS',\n",
       " 'SINU URRA',\n",
       " 'TENCHE'}"
      ]
     },
     "execution_count": 54,
     "metadata": {},
     "output_type": "execute_result"
    }
   ],
   "source": [
    "set(x['Nombre Rio'])"
   ]
  },
  {
   "cell_type": "code",
   "execution_count": null,
   "metadata": {
    "collapsed": true
   },
   "outputs": [],
   "source": []
  },
  {
   "cell_type": "code",
   "execution_count": 63,
   "metadata": {
    "collapsed": false
   },
   "outputs": [
    {
     "name": "stdout",
     "output_type": "stream",
     "text": [
      "PRADO 498419.125683\n",
      "BATA 15712428.4153\n",
      "ALTOANCHICAYA 4620595.90164\n",
      "GUADALUPE 4542910.92896\n",
      "PORCE II 4976887.15847\n",
      "CALIMA 556011.748634\n",
      "MIEL I 3430428.4153\n",
      "A. SAN LORENZO 8105399.72678\n",
      "SAN CARLOS 3084508.74317\n",
      "FLORIDA II nan\n",
      "GUAVIO 20624689.3443\n",
      "SINU URRA 3165074.04372\n",
      "GRANDE 6729973.22404\n",
      "CAUCA SALVAJINA 2519614.48087\n",
      "NARE 17388083.6066\n",
      "CHUZA nan\n",
      "DESV. EEPPM (NEC,PAJ,DOL) nan\n",
      "OTROS RIOS (ESTIMADOS) 3700456.8306\n",
      "TENCHE 878668.306011\n",
      "DIGUA 429995.355191\n",
      "GUATAPE 5624479.23497\n",
      "CONCEPCION 1488170.4918\n",
      "MAGDALENA BETANIA 5580630.32787\n",
      "BOGOTA N.R. nan\n"
     ]
    }
   ],
   "source": [
    "n=set(x['Nombre Rio'])\n",
    "import statistics\n",
    "\n",
    "for y in n:\n",
    "    z=x[x['Nombre Rio']== y]['Aportes Energia kWh']\n",
    "    if len(z)>0:\n",
    "        print(y,statistics.mean(x[x['Nombre Rio']==y]['Aportes Energia kWh'].values[:]))"
   ]
  }
 ],
 "metadata": {
  "anaconda-cloud": {},
  "kernelspec": {
   "display_name": "Python [conda root]",
   "language": "python",
   "name": "conda-root-py"
  },
  "language_info": {
   "codemirror_mode": {
    "name": "ipython",
    "version": 3
   },
   "file_extension": ".py",
   "mimetype": "text/x-python",
   "name": "python",
   "nbconvert_exporter": "python",
   "pygments_lexer": "ipython3",
   "version": "3.5.2"
  }
 },
 "nbformat": 4,
 "nbformat_minor": 1
}
